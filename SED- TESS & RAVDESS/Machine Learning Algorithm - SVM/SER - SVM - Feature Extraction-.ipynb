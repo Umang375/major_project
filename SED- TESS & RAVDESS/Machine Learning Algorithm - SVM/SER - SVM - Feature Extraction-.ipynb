{
 "cells": [
  {
   "cell_type": "markdown",
   "metadata": {},
   "source": [
    "# Speech Emotion Recognition - Feature Extraction\n",
    "\n",
    "Databases used\n",
    "\n",
    "* The Ryerson Audio-Visual Database of Emotional Speech and Song (RAVDESS)\n",
    "* Toronto emotional speech set (TESS)"
   ]
  },
  {
   "cell_type": "markdown",
   "metadata": {},
   "source": [
    "### Import Libraries\n",
    "\n",
    "Import necessary libraries"
   ]
  },
  {
   "cell_type": "code",
   "execution_count": 1,
   "metadata": {
    "colab": {},
    "colab_type": "code",
    "id": "4Psuv3UPLaPR"
   },
   "outputs": [],
   "source": [
    "import glob\n",
    "import os\n",
    "import librosa\n",
    "import time\n",
    "import numpy as np\n",
    "import pandas as pd"
   ]
  },
  {
   "cell_type": "markdown",
   "metadata": {
    "colab_type": "text",
    "id": "rBpIgx9bkdgJ"
   },
   "source": [
    "### Load all files\n",
    "\n",
    "We will create our numpy array extracting Mel-frequency cepstral coefficients (MFCCs) while the classes to predict will be extracted from the name of the file."
   ]
  },
  {
   "cell_type": "markdown",
   "metadata": {},
   "source": [
    "#### Defining emotions to classify \n",
    "\n",
    "Selecting the emotions to be classified. Note that the emotions 'neutral', 'calm' and 'surprised' are only found in RAVDESS dataset and 'pleasantly surprised' or 'ps' is only available in TESS dataset. To combine all the emotions from both datasets into 8 emotion classes, we have changed 'pleasantly surprised' to 'surprised' and 'fearful' to 'fear'"
   ]
  },
  {
   "cell_type": "code",
   "execution_count": 2,
   "metadata": {
    "colab": {},
    "colab_type": "code",
    "id": "s16XwP5LK8a3"
   },
   "outputs": [],
   "source": [
    "emotions={\n",
    "  '01':'neutral',\n",
    "  '02':'calm',\n",
    "  '03':'happy',\n",
    "  '04':'sad',\n",
    "  '05':'angry',\n",
    "  '06':'fear',\n",
    "  '07':'disgust',\n",
    "  '08':'surprised'\n",
    "}\n",
    "\n",
    "#defined tess emotions to test on TESS dataset only\n",
    "tess_emotions=['angry','disgust','fear','ps','happy','sad']\n",
    "\n",
    "##defined RAVDESS emotions to test on RAVDESS dataset only\n",
    "ravdess_emotions=['neutral','calm','angry', 'happy','disgust','sad','fear','surprised']\n",
    "\n",
    "observed_emotions = ['sad','angry','happy','disgust','surprised','neutral','calm','fear']"
   ]
  },
  {
   "cell_type": "markdown",
   "metadata": {},
   "source": [
    "#### Feature extraction\n",
    "\n",
    "Using librosa package we can extract the MFCC features. This function loads the file give the file path and after resampling and computing MFCC features, returns the features. We have selected the no. of MFCCs as 40.\n",
    "\n",
    "https://librosa.org/librosa/generated/librosa.feature.mfcc.html"
   ]
  },
  {
   "cell_type": "code",
   "execution_count": 3,
   "metadata": {
    "colab": {},
    "colab_type": "code",
    "id": "h9a81pkWLCs1"
   },
   "outputs": [],
   "source": [
    "def extract_feature(file_name, mfcc):\n",
    "    X, sample_rate = librosa.load(os.path.join(file_name), res_type='kaiser_fast')\n",
    "    if mfcc:\n",
    "        mfccs=np.mean(librosa.feature.mfcc(y=X, sr=sample_rate, n_mfcc=40).T, axis=0)\n",
    "        result=np.hstack((result, mfccs))\n",
    "    return result"
   ]
  },
  {
   "cell_type": "markdown",
   "metadata": {},
   "source": [
    "#### Choosing a dataset\n",
    "\n",
    "Choose the dataset(s) you want to load using the following function"
   ]
  },
  {
   "cell_type": "code",
   "execution_count": 4,
   "metadata": {},
   "outputs": [],
   "source": [
    "def dataset_options():\n",
    "    # choose datasets\n",
    "    ravdess = True\n",
    "    tess = True\n",
    "    ravdess_speech = False\n",
    "    ravdess_song = False\n",
    "    data = {'ravdess':ravdess, 'ravdess_speech':ravdess_speech, 'ravdess_song':ravdess_song, 'tess':tess}\n",
    "    print(data)\n",
    "    return data"
   ]
  },
  {
   "cell_type": "markdown",
   "metadata": {},
   "source": [
    "#### Load data\n",
    "\n",
    "Load data from the datasets required which is obtained by calling the function dataset__options(). Extract features from each file with the selected emotions in chosen datasets using the extract_feature() function defined."
   ]
  },
  {
   "cell_type": "code",
   "execution_count": 5,
   "metadata": {
    "colab": {},
    "colab_type": "code",
    "id": "RaV2hMcxLGZd"
   },
   "outputs": [],
   "source": [
    "def load_data(test_size=0.2): \n",
    "    x,y=[],[]\n",
    "    \n",
    "    # feature to extract\n",
    "    mfcc = True\n",
    "    \n",
    "    data = dataset_options()\n",
    "    paths = []\n",
    "    if data['ravdess']:\n",
    "        paths.append(\"..\\Datasets\\RAVDESS\\*\\Actor_*\\*.wav\")\n",
    "    elif data['ravdess_speech']:\n",
    "        paths.append(\"..\\Datasets\\RAVDESS\\Speech\\Actor_*\\*.wav\")\n",
    "    elif data['ravdess_song']:\n",
    "        paths.append(\"..\\Datasets\\RAVDESS\\Song\\Actor_*\\*.wav\")\n",
    "        \n",
    "    for path in paths:\n",
    "        for file in glob.glob(path):\n",
    "            file_name=os.path.basename(file)\n",
    "            emotion=emotions[file_name.split(\"-\")[2]] #to get emotion according to filename. dictionary emotions is defined above.\n",
    "            if emotion not in observed_emotions: #options observed_emotions - RAVDESS and TESS, ravdess_emotions for RAVDESS only\n",
    "                continue\n",
    "            feature=extract_feature(file, mfcc)\n",
    "            x.append(feature)\n",
    "            y.append(emotion)\n",
    "    if data['tess']:\n",
    "        for file in glob.glob(\"..\\Datasets\\TESS\\*AF_*\\*.wav\"):\n",
    "            file_name=os.path.basename(file)\n",
    "            emotion=file_name.split(\"_\")[2][:-4] #split and remove .wav\n",
    "            if emotion == 'ps':\n",
    "                emotion = 'surprised'\n",
    "            if emotion not in observed_emotions: #options observed_emotions - RAVDESS and TESS, ravdess_emotions for RAVDESS only\n",
    "                continue\n",
    "            feature=extract_feature(file, mfcc)\n",
    "            x.append(feature)\n",
    "            y.append(emotion)\n",
    "    return {\"X\":x,\"y\":y}"
   ]
  },
  {
   "cell_type": "code",
   "execution_count": 6,
   "metadata": {
    "colab": {
     "base_uri": "https://localhost:8080/",
     "height": 34
    },
    "colab_type": "code",
    "id": "LVbx68UMLMAT",
    "outputId": "51a46f14-72ff-4825-83c5-0ce8673f5307"
   },
   "outputs": [
    {
     "name": "stdout",
     "output_type": "stream",
     "text": [
      "{'ravdess': True, 'ravdess_speech': False, 'ravdess_song': False, 'tess': True}\n",
      "--- Data loaded. Loading time: 0.0024938583374023438 seconds ---\n"
     ]
    }
   ],
   "source": [
    "start_time = time.time()\n",
    "\n",
    "Trial_dict = load_data(test_size = 0.3)\n",
    "\n",
    "print(\"--- Data loaded. Loading time: %s seconds ---\" % (time.time() - start_time))"
   ]
  },
  {
   "cell_type": "code",
   "execution_count": 7,
   "metadata": {
    "colab": {},
    "colab_type": "code",
    "id": "-WAO-j4iLPSn"
   },
   "outputs": [],
   "source": [
    "X = pd.DataFrame(Trial_dict[\"X\"])\n",
    "y = pd.DataFrame(Trial_dict[\"y\"])"
   ]
  },
  {
   "cell_type": "code",
   "execution_count": 8,
   "metadata": {
    "colab": {
     "base_uri": "https://localhost:8080/",
     "height": 34
    },
    "colab_type": "code",
    "id": "Huw2Md1XLQZm",
    "outputId": "6a6cf90d-8449-4990-8bce-af37d4b50706"
   },
   "outputs": [
    {
     "data": {
      "text/plain": [
       "((0, 0), (0, 0))"
      ]
     },
     "execution_count": 8,
     "metadata": {},
     "output_type": "execute_result"
    }
   ],
   "source": [
    "X.shape, y.shape"
   ]
  },
  {
   "cell_type": "code",
   "execution_count": 9,
   "metadata": {},
   "outputs": [],
   "source": [
    "#renaming the label column to emotion\n",
    "y=y.rename(columns= {0: 'emotion'})"
   ]
  },
  {
   "cell_type": "code",
   "execution_count": 10,
   "metadata": {},
   "outputs": [],
   "source": [
    "#concatinating the attributes and label into a single dataframe\n",
    "data = pd.concat([X, y], axis =1)"
   ]
  },
  {
   "cell_type": "code",
   "execution_count": 11,
   "metadata": {},
   "outputs": [
    {
     "data": {
      "text/html": [
       "<div>\n",
       "<style scoped>\n",
       "    .dataframe tbody tr th:only-of-type {\n",
       "        vertical-align: middle;\n",
       "    }\n",
       "\n",
       "    .dataframe tbody tr th {\n",
       "        vertical-align: top;\n",
       "    }\n",
       "\n",
       "    .dataframe thead th {\n",
       "        text-align: right;\n",
       "    }\n",
       "</style>\n",
       "<table border=\"1\" class=\"dataframe\">\n",
       "  <thead>\n",
       "    <tr style=\"text-align: right;\">\n",
       "      <th></th>\n",
       "    </tr>\n",
       "  </thead>\n",
       "  <tbody>\n",
       "  </tbody>\n",
       "</table>\n",
       "</div>"
      ],
      "text/plain": [
       "Empty DataFrame\n",
       "Columns: []\n",
       "Index: []"
      ]
     },
     "execution_count": 11,
     "metadata": {},
     "output_type": "execute_result"
    }
   ],
   "source": [
    "data.head()"
   ]
  },
  {
   "cell_type": "markdown",
   "metadata": {},
   "source": [
    "## Shuffling data"
   ]
  },
  {
   "cell_type": "code",
   "execution_count": 12,
   "metadata": {},
   "outputs": [],
   "source": [
    "#reindexing to shuffle the data at random\n",
    "data = data.reindex(np.random.permutation(data.index))"
   ]
  },
  {
   "cell_type": "code",
   "execution_count": 13,
   "metadata": {},
   "outputs": [],
   "source": [
    "# Storing shuffled ravdess and tess data to avoid loading again\n",
    "data.to_csv(\"RAVTESS_MFCC_Observed.csv\")"
   ]
  },
  {
   "cell_type": "code",
   "execution_count": null,
   "metadata": {},
   "outputs": [],
   "source": []
  }
 ],
 "metadata": {
  "colab": {
   "collapsed_sections": [],
   "name": "SVM trial 2.ipynb",
   "provenance": []
  },
  "kernelspec": {
   "display_name": "Python 3",
   "language": "python",
   "name": "python3"
  },
  "language_info": {
   "codemirror_mode": {
    "name": "ipython",
    "version": 3
   },
   "file_extension": ".py",
   "mimetype": "text/x-python",
   "name": "python",
   "nbconvert_exporter": "python",
   "pygments_lexer": "ipython3",
   "version": "3.9.12"
  }
 },
 "nbformat": 4,
 "nbformat_minor": 1
}
